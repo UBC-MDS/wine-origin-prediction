{
 "cells": [
  {
   "cell_type": "markdown",
   "id": "6e249503-27b8-423d-9eae-0cfdd9df1ad1",
   "metadata": {},
   "source": [
    "## Logistic Regression Model for Wine Classification"
   ]
  },
  {
   "cell_type": "markdown",
   "id": "e829433f-04fa-4864-8df8-9ef63089a2ab",
   "metadata": {},
   "source": [
    "### Imports"
   ]
  },
  {
   "cell_type": "code",
   "execution_count": 41,
   "id": "c7627e33-5faf-400a-a98c-70a1f3367469",
   "metadata": {},
   "outputs": [],
   "source": [
    "import pandas as pd\n",
    "import numpy as np\n",
    "from matplotlib import pyplot as plt\n",
    "\n",
    "from sklearn.dummy import DummyClassifier\n",
    "from sklearn.linear_model import LogisticRegression\n",
    "from sklearn.model_selection import (\n",
    "    GridSearchCV,\n",
    "    RandomizedSearchCV,\n",
    "    cross_validate,\n",
    "    cross_val_score,\n",
    "    train_test_split,\n",
    ")\n",
    "from sklearn.pipeline import make_pipeline\n",
    "from sklearn.preprocessing import StandardScaler"
   ]
  },
  {
   "cell_type": "code",
   "execution_count": 42,
   "id": "505bdfbd-269e-475c-b0cf-aa05e7d19ac0",
   "metadata": {},
   "outputs": [],
   "source": [
    "train_df = pd.read_csv('../data/processed/wine_train.csv')\n",
    "test_df = pd.read_csv('../data/processed/wine_test.csv')\n",
    "\n",
    "X_train = train_df.drop(columns=['class'])\n",
    "y_train = train_df['class']\n",
    "\n",
    "X_test = test_df.drop(columns=['class'])\n",
    "y_test = test_df['class']"
   ]
  },
  {
   "cell_type": "markdown",
   "id": "3cfe202b-7233-4972-a98b-de8ce309763e",
   "metadata": {},
   "source": [
    "### Create baseline model"
   ]
  },
  {
   "cell_type": "code",
   "execution_count": 43,
   "id": "0db76ffa-1e18-4c33-8d57-ba8fc02c7b40",
   "metadata": {},
   "outputs": [
    {
     "name": "stdout",
     "output_type": "stream",
     "text": [
      "Baseline model achieves 40.33% accuracy\n"
     ]
    }
   ],
   "source": [
    "dummy = DummyClassifier(random_state=123)\n",
    "mean_cv_score = cross_val_score(dummy, X_train, y_train).mean()\n",
    "print(f\"Baseline model achieves {round(mean_cv_score*100,2)}% accuracy\")"
   ]
  },
  {
   "cell_type": "markdown",
   "id": "25496041-d9b6-4532-a90e-c35d19c7793b",
   "metadata": {},
   "source": [
    "### Optimize C hyperparameter for logistic regression model"
   ]
  },
  {
   "cell_type": "code",
   "execution_count": 46,
   "id": "3bd7e7f2-1013-408d-8168-a8f39e4fc092",
   "metadata": {},
   "outputs": [
    {
     "name": "stdout",
     "output_type": "stream",
     "text": [
      "Optimal C value:  {'logisticregression__C': 0.1}\n"
     ]
    }
   ],
   "source": [
    "pipe_lr = make_pipeline(\n",
    "    StandardScaler(), LogisticRegression(max_iter=2000)\n",
    ")\n",
    "\n",
    "param_grid = {\n",
    "    \"logisticregression__C\": np.array([0.01,0.1,1,10,100,1000])\n",
    "}\n",
    "\n",
    "C_search = GridSearchCV(\n",
    "    pipe_lr, param_grid, n_jobs=-1, cv=5, return_train_score=True\n",
    ")\n",
    "C_search.fit(X_train, y_train)\n",
    "\n",
    "print(\"Optimal C value: \", C_search.best_params_)"
   ]
  },
  {
   "cell_type": "code",
   "execution_count": 45,
   "id": "7d1fe718-9718-4aa4-9374-b7611cdb3b9b",
   "metadata": {},
   "outputs": [
    {
     "data": {
      "text/plain": [
       "Text(0, 0.5, 'Accuracy')"
      ]
     },
     "execution_count": 45,
     "metadata": {},
     "output_type": "execute_result"
    },
    {
     "data": {
      "image/png": "[encoded data removed]",
      "text/plain": [
       "<Figure size 432x288 with 1 Axes>"
      ]
     },
     "metadata": {
      "needs_background": "light"
     },
     "output_type": "display_data"
    }
   ],
   "source": [
    "train_scores = C_search.cv_results_[\"mean_train_score\"]\n",
    "cv_scores = C_search.cv_results_[\"mean_test_score\"]\n",
    "\n",
    "plt.semilogx(param_grid[\"logisticregression__C\"], train_scores, label=\"train\")\n",
    "plt.semilogx(param_grid[\"logisticregression__C\"], cv_scores, label=\"valid\")\n",
    "plt.legend()\n",
    "\n",
    "plt.xlabel(\"C\")\n",
    "plt.ylabel(\"Accuracy\")"
   ]
  },
  {
   "cell_type": "markdown",
   "id": "01798aea-2388-4378-b6fb-16b4143b8d40",
   "metadata": {},
   "source": [
    "### Create logistic regression model with optimal hyperparameter"
   ]
  },
  {
   "cell_type": "code",
   "execution_count": 48,
   "id": "1be9d677-c234-4efb-98ad-77e37d0731c1",
   "metadata": {},
   "outputs": [
    {
     "data": {
      "text/plain": [
       "Pipeline(steps=[('standardscaler', StandardScaler()),\n",
       "                ('logisticregression',\n",
       "                 LogisticRegression(C=0.1, max_iter=2000))])"
      ]
     },
     "execution_count": 48,
     "metadata": {},
     "output_type": "execute_result"
    }
   ],
   "source": [
    "pipe_lr = make_pipeline(\n",
    "    StandardScaler(), LogisticRegression(max_iter=2000, C=0.1)\n",
    ")\n",
    "\n",
    "pipe_lr.fit(X_train,y_train)"
   ]
  },
  {
   "cell_type": "code",
   "execution_count": 50,
   "id": "ebf1f786-9106-49de-aa5c-e7c50d7dad72",
   "metadata": {},
   "outputs": [
    {
     "name": "stdout",
     "output_type": "stream",
     "text": [
      "Final LR model training accuracy: 100.0%\n",
      "Final LR model test accuracy: 100.0%\n"
     ]
    }
   ],
   "source": [
    "train_score = pipe_lr.score(X_train,y_train)\n",
    "test_score = pipe_lr.score(X_test,y_test)\n",
    "\n",
    "print(f\"Final LR model training accuracy: {train_score*100}%\")\n",
    "print(f\"Final LR model test accuracy: {test_score*100}%\")"
   ]
  }
 ],
 "metadata": {
  "kernelspec": {
   "display_name": "Python 3 (ipykernel)",
   "language": "python",
   "name": "python3"
  },
  "language_info": {
   "codemirror_mode": {
    "name": "ipython",
    "version": 3
   },
   "file_extension": ".py",
   "mimetype": "text/x-python",
   "name": "python",
   "nbconvert_exporter": "python",
   "pygments_lexer": "ipython3",
   "version": "3.8.8"
  }
 },
 "nbformat": 4,
 "nbformat_minor": 5
}
